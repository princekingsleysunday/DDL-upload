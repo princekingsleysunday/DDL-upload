{
  "nbformat": 4,
  "nbformat_minor": 0,
  "metadata": {
    "colab": {
      "provenance": [],
      "include_colab_link": true
    },
    "kernelspec": {
      "name": "python3",
      "display_name": "Python 3"
    },
    "language_info": {
      "name": "python"
    },
    "accelerator": "GPU",
    "gpuClass": "standard"
  },
  "cells": [
    {
      "cell_type": "markdown",
      "metadata": {
        "id": "view-in-github",
        "colab_type": "text"
      },
      "source": [
        "<a href=\"https://colab.research.google.com/github/princekingsleysunday/DDL-upload/blob/master/CNN_VGGnet.ipynb\" target=\"_parent\"><img src=\"https://colab.research.google.com/assets/colab-badge.svg\" alt=\"Open In Colab\"/></a>"
      ]
    },
    {
      "cell_type": "code",
      "execution_count": null,
      "metadata": {
        "id": "DGb592TrkBiY"
      },
      "outputs": [],
      "source": [
        "## VGGNet MNIST classification\n",
        "\n",
        "# import the libraries\n",
        "from keras.datasets.mnist import load_data\n",
        "import numpy as np\n",
        "from sklearn.model_selection import train_test_split\n",
        "from keras.utils import to_categorical\n",
        "\n",
        "import pandas as pd\n",
        "import numpy as np\n",
        "import matplotlib.pyplot as plt\n",
        "%matplotlib inline\n",
        "import tensorflow as tf\n",
        "import warnings\n",
        "warnings.filterwarnings('ignore')\n",
        "from tensorflow.python.framework import ops"
      ]
    },
    {
      "cell_type": "markdown",
      "source": [
        "## Using VGGNet Algorithm\n",
        "\n",
        "VGG is a Convolutional Neural Network architecture, It was proposed by Karen Simonyan and Andrew Zisserman of Oxford Robotics Institute in the paper Very Deep Convolutional Networks for Large-Scale Image Recognition.\n",
        "It was submitted to Large Scale Visual Recognition Challenge 2014 and The model achieves 92.7% top-5 test accuracy in ImageNet.\n",
        "ImageNet is one the on the largest data-set available. It has 14 million hand-annotated images belonging to 1000 classes.\n",
        "\n",
        "\n",
        "The main concept is stacking of convolutional layers to create a deep neural network.\n",
        "VGG shows that the depth of the network has an important role. Deeper networks give better results.\n",
        "One drawback of VGGNet is that this network is usually big. It contains around 160M parameters. Most of the parameters are consumed in the fully connected layers."
      ],
      "metadata": {
        "id": "Jc2FMBgzwH21"
      }
    },
    {
      "cell_type": "code",
      "source": [
        "# load the data - it returns 2 tuples of digits & labels - one for\n",
        "# the train set & the other for the test set\n",
        "(train_digits, train_labels), (test_digits, test_labels) = load_data()\n",
        "#  some variables...\n",
        "image_height = train_digits.shape[1]  \n",
        "image_width = train_digits.shape[2]\n",
        "num_channels = 1  # we have grayscale images\n",
        "# NOTE: image_height == image_width == 28\n",
        "# re-shape the images data\n",
        "train_data = np.reshape(train_digits, (train_digits.shape[0], image_height, image_width, num_channels))\n",
        "test_data = np.reshape(test_digits, (test_digits.shape[0],image_height, image_width, num_channels))\n",
        "\n",
        "# re-scale the image data to values between [0,1]\n",
        "train_data = train_data.astype('float32') / 255.\n",
        "test_data = test_data.astype('float32') / 255.\n",
        "\n",
        "# one-hot encode the labels - we have 10 output classes\n",
        "\n",
        "# so 3 -> [0 0 0 1 0 0 0 0 0 0], 5 -> [0 0 0 0 0 1 0 0 0 0] & so on\n",
        "num_classes = 10\n",
        "train_labels_cat = to_categorical(train_labels,num_classes)\n",
        "test_labels_cat = to_categorical(test_labels,num_classes)\n",
        "\n",
        "# split training set into training and validation\n",
        "train_data2, val_data,train_labels_cat2,  val_labels = train_test_split(train_data, train_labels_cat, test_size=0.1)"
      ],
      "metadata": {
        "colab": {
          "base_uri": "https://localhost:8080/"
        },
        "id": "n1XHjmoQkx5S",
        "outputId": "4dcb6df3-e491-4878-bd0b-6696186f610c"
      },
      "execution_count": null,
      "outputs": [
        {
          "output_type": "stream",
          "name": "stdout",
          "text": [
            "Downloading data from https://storage.googleapis.com/tensorflow/tf-keras-datasets/mnist.npz\n",
            "11490434/11490434 [==============================] - 0s 0us/step\n"
          ]
        }
      ]
    },
    {
      "cell_type": "code",
      "source": [
        "from keras.datasets import mnist\n",
        "(X_train, y_train), (X_test, y_test) = mnist.load_data()\n",
        "print('X_train shape', X_train.shape, 'X_test shape', X_test.shape)"
      ],
      "metadata": {
        "colab": {
          "base_uri": "https://localhost:8080/"
        },
        "id": "Pi1IPYdBk9bu",
        "outputId": "db4a3992-69ba-442e-caa0-3255c57e5043"
      },
      "execution_count": null,
      "outputs": [
        {
          "output_type": "stream",
          "name": "stdout",
          "text": [
            "X_train shape (60000, 28, 28) X_test shape (10000, 28, 28)\n"
          ]
        }
      ]
    },
    {
      "cell_type": "code",
      "source": [
        "# Data Preprocessing\n",
        "\n",
        "from keras.utils import to_categorical\n",
        "def preprocess_data(X_train, y_train, X_test, y_test):\n",
        "  # reshape images to the required size of Keras\n",
        "  X_train = X_train.reshape(X_train.shape[0], X_train.shape[1], X_train.shape[2], 1)\n",
        "  X_test = X_test.reshape(X_test.shape[0], X_test.shape[1], X_test.shape[2], 1)\n",
        "  \n",
        "  # convert image values from integers to floats\n",
        "  X_train = X_train.astype('float32')\n",
        "  X_test = X_test.astype('float32')\n",
        "  \n",
        "  # normalization\n",
        "  X_train = X_train/255.0\n",
        "  X_test_norm = X_test/255.0\n",
        "  \n",
        "  # One-hot encoding label \n",
        "  y_train = to_categorical(y_train)\n",
        "  y_test = to_categorical(y_test)\n",
        "  \n",
        "  return X_train, y_train, X_test, y_test"
      ],
      "metadata": {
        "id": "o3ZRfz10lApo"
      },
      "execution_count": null,
      "outputs": []
    },
    {
      "cell_type": "code",
      "source": [
        "##VGGNet model\n",
        "\n",
        "from keras.layers import BatchNormalization\n",
        "import numpy as np # linear algebra\n",
        "import pandas as pd # data processing, CSV file I/O (e.g. pd.read_csv)\n",
        "from keras.utils import to_categorical\n",
        "from keras.models import Sequential\n",
        "from keras.layers import Dense, Dropout\n",
        "from keras.layers import Flatten, Conv2D, MaxPooling2D\n",
        "from sklearn.model_selection import train_test_split\n",
        "import os\n",
        "\n",
        "\n",
        "model = Sequential()\n",
        "\n",
        "model.add(Conv2D(32, 3, activation='relu', padding='same', input_shape=(28, 28, 1)))\n",
        "model.add(Conv2D(64, 3, activation='relu', padding='same'))\n",
        "model.add(MaxPooling2D(2, 2))\n",
        "model.add(BatchNormalization())\n",
        "\n",
        "model.add(Conv2D(128, 3, activation='relu', padding='same'))\n",
        "model.add(Conv2D(128, 3, activation='relu', padding='same'))\n",
        "model.add(MaxPooling2D(2, 2))\n",
        "model.add(BatchNormalization())\n",
        "\n",
        "model.add(Conv2D(256, 3, activation='relu', padding='same'))\n",
        "model.add(Conv2D(256, 3, activation='relu', padding='same'))\n",
        "model.add(Conv2D(256, 3, activation='relu', padding='same'))\n",
        "model.add(MaxPooling2D(2, 2))\n",
        "model.add(BatchNormalization())\n",
        "\n",
        "model.add(Conv2D(512, 3, activation='relu', padding='same'))\n",
        "model.add(Conv2D(512, 3, activation='relu', padding='same'))\n",
        "model.add(Conv2D(512, 3, activation='relu', padding='same'))\n",
        "model.add(MaxPooling2D(2, 1)) # default stride is 2\n",
        "model.add(BatchNormalization())\n",
        "\n",
        "model.add(Conv2D(512, 3, activation='relu', padding='same'))\n",
        "model.add(Conv2D(512, 3, activation='relu', padding='same'))\n",
        "model.add(Conv2D(512, 3, activation='relu', padding='same'))\n",
        "model.add(MaxPooling2D(2, 1)) # default stride is 2\n",
        "model.add(BatchNormalization())\n",
        "\n",
        "model.add(Flatten())\n",
        "model.add(Dense(4096, activation='relu'))\n",
        "model.add(Dropout(0.5))\n",
        "model.add(Dense(4096, activation='relu'))\n",
        "model.add(Dropout(0.5))\n",
        "\n",
        "model.add(Dense(10, activation='softmax'))"
      ],
      "metadata": {
        "id": "-RureZ6vlD10"
      },
      "execution_count": null,
      "outputs": []
    },
    {
      "cell_type": "code",
      "source": [
        "model.compile(loss='categorical_crossentropy',\n",
        "             optimizer='sgd',\n",
        "             metrics=['accuracy'])"
      ],
      "metadata": {
        "id": "BPT-6X4YlgfN"
      },
      "execution_count": null,
      "outputs": []
    },
    {
      "cell_type": "code",
      "source": [
        "def summary_history(history):\n",
        "  plt.figure(figsize = (10,6))\n",
        "  plt.plot(history.history['accuracy'], color = 'blue', label = 'train')\n",
        "  plt.plot(history.history['val_accuracy'], color = 'red', label = 'val')\n",
        "  plt.legend()\n",
        "  plt.title('Accuracy')\n",
        "  plt.show()\n",
        "\n",
        "\n",
        "def train_model(model, X_train, y_train, X_test, y_test, epochs = 50, batch_size = 128):\n",
        "  # Rescaling all training and testing data\n",
        "  X_train, y_train, X_test, y_test = preprocess_data(X_train, y_train, X_test, y_test)\n",
        "  # Fitting the model on the training set\n",
        "  history = model.fit(X_train, y_train, epochs = epochs, batch_size = batch_size, \n",
        "                      steps_per_epoch = X_train.shape[0]//batch_size, \n",
        "                      validation_data = (X_test, y_test), \n",
        "                      validation_steps = X_test.shape[0]//batch_size, verbose = 1)\n",
        "  # evaluating the model\n",
        "  _, acc = model.evaluate(X_test, y_test, verbose = 1)\n",
        "  print('%.3f' % (acc * 100.0))\n",
        "  summary_history(history)\n",
        "\n",
        "# import the builtin time module\n",
        "import time\n",
        "\n",
        "# Grab Currrent Time Before Running the Code\n",
        "start = time.time()\n",
        "\n",
        "train_model(model,X_train, y_train, X_test, y_test)\n",
        "\n",
        "# Grab Currrent Time After Running the Code\n",
        "end = time.time()\n",
        "\n",
        "#Subtract Start Time from The End Time\n",
        "total_time = end - start\n",
        "print(f'it took {total_time} to train using the VGGnet model')"
      ],
      "metadata": {
        "colab": {
          "base_uri": "https://localhost:8080/",
          "height": 1000
        },
        "id": "BbeM6JOZlQF5",
        "outputId": "430f9bd5-ca69-42d3-c0b1-86b6d2525c9e"
      },
      "execution_count": null,
      "outputs": [
        {
          "output_type": "stream",
          "name": "stdout",
          "text": [
            "Epoch 1/50\n",
            "468/468 [==============================] - 38s 60ms/step - loss: 0.2119 - accuracy: 0.9397 - val_loss: 457.4115 - val_accuracy: 0.1495\n",
            "Epoch 2/50\n",
            "468/468 [==============================] - 28s 58ms/step - loss: 0.0392 - accuracy: 0.9887 - val_loss: 1091.1201 - val_accuracy: 0.1514\n",
            "Epoch 3/50\n",
            "468/468 [==============================] - 28s 59ms/step - loss: 0.0214 - accuracy: 0.9943 - val_loss: 1322.0701 - val_accuracy: 0.1839\n",
            "Epoch 4/50\n",
            "468/468 [==============================] - 28s 60ms/step - loss: 0.0118 - accuracy: 0.9970 - val_loss: 937.5428 - val_accuracy: 0.2903\n",
            "Epoch 5/50\n",
            "468/468 [==============================] - 29s 61ms/step - loss: 0.0078 - accuracy: 0.9982 - val_loss: 1034.6271 - val_accuracy: 0.1699\n",
            "Epoch 6/50\n",
            "468/468 [==============================] - 28s 60ms/step - loss: 0.0044 - accuracy: 0.9992 - val_loss: 880.2313 - val_accuracy: 0.3232\n",
            "Epoch 7/50\n",
            "468/468 [==============================] - 28s 60ms/step - loss: 0.0026 - accuracy: 0.9996 - val_loss: 886.2759 - val_accuracy: 0.2861\n",
            "Epoch 8/50\n",
            "468/468 [==============================] - 28s 61ms/step - loss: 0.0018 - accuracy: 0.9997 - val_loss: 919.4531 - val_accuracy: 0.2819\n",
            "Epoch 9/50\n",
            "468/468 [==============================] - 28s 60ms/step - loss: 0.0013 - accuracy: 0.9998 - val_loss: 878.9488 - val_accuracy: 0.3016\n",
            "Epoch 10/50\n",
            "468/468 [==============================] - 28s 60ms/step - loss: 7.4836e-04 - accuracy: 1.0000 - val_loss: 862.3981 - val_accuracy: 0.2904\n",
            "Epoch 11/50\n",
            "468/468 [==============================] - 28s 60ms/step - loss: 6.4504e-04 - accuracy: 1.0000 - val_loss: 880.9713 - val_accuracy: 0.2974\n",
            "Epoch 12/50\n",
            "468/468 [==============================] - 30s 63ms/step - loss: 5.5287e-04 - accuracy: 1.0000 - val_loss: 878.2618 - val_accuracy: 0.2826\n",
            "Epoch 13/50\n",
            "468/468 [==============================] - 28s 61ms/step - loss: 4.7077e-04 - accuracy: 1.0000 - val_loss: 854.8079 - val_accuracy: 0.2933\n",
            "Epoch 14/50\n",
            "468/468 [==============================] - 28s 60ms/step - loss: 4.1236e-04 - accuracy: 1.0000 - val_loss: 874.6617 - val_accuracy: 0.3089\n",
            "Epoch 15/50\n",
            "468/468 [==============================] - 28s 61ms/step - loss: 3.1800e-04 - accuracy: 1.0000 - val_loss: 875.5729 - val_accuracy: 0.2999\n",
            "Epoch 16/50\n",
            "468/468 [==============================] - 30s 64ms/step - loss: 2.9982e-04 - accuracy: 1.0000 - val_loss: 899.9828 - val_accuracy: 0.2812\n",
            "Epoch 17/50\n",
            "468/468 [==============================] - 30s 64ms/step - loss: 2.8245e-04 - accuracy: 1.0000 - val_loss: 891.9136 - val_accuracy: 0.2925\n",
            "Epoch 18/50\n",
            "468/468 [==============================] - 30s 64ms/step - loss: 2.5353e-04 - accuracy: 1.0000 - val_loss: 876.6199 - val_accuracy: 0.2911\n",
            "Epoch 19/50\n",
            "468/468 [==============================] - 29s 61ms/step - loss: 2.3360e-04 - accuracy: 1.0000 - val_loss: 881.9558 - val_accuracy: 0.2930\n",
            "Epoch 20/50\n",
            "468/468 [==============================] - 29s 61ms/step - loss: 2.3326e-04 - accuracy: 1.0000 - val_loss: 883.2241 - val_accuracy: 0.2924\n",
            "Epoch 21/50\n",
            "468/468 [==============================] - 28s 61ms/step - loss: 1.9770e-04 - accuracy: 1.0000 - val_loss: 890.2585 - val_accuracy: 0.2949\n",
            "Epoch 22/50\n",
            "468/468 [==============================] - 29s 61ms/step - loss: 1.8801e-04 - accuracy: 1.0000 - val_loss: 875.1678 - val_accuracy: 0.2987\n",
            "Epoch 23/50\n",
            "468/468 [==============================] - 29s 61ms/step - loss: 1.6863e-04 - accuracy: 1.0000 - val_loss: 879.1891 - val_accuracy: 0.3080\n",
            "Epoch 24/50\n",
            "468/468 [==============================] - 29s 61ms/step - loss: 1.8786e-04 - accuracy: 1.0000 - val_loss: 873.9896 - val_accuracy: 0.2994\n",
            "Epoch 25/50\n",
            "468/468 [==============================] - 29s 61ms/step - loss: 1.7512e-04 - accuracy: 1.0000 - val_loss: 876.9188 - val_accuracy: 0.2916\n",
            "Epoch 26/50\n",
            "468/468 [==============================] - 29s 61ms/step - loss: 1.3965e-04 - accuracy: 1.0000 - val_loss: 872.9363 - val_accuracy: 0.2972\n",
            "Epoch 27/50\n",
            "468/468 [==============================] - 29s 61ms/step - loss: 1.4659e-04 - accuracy: 1.0000 - val_loss: 869.5194 - val_accuracy: 0.2999\n",
            "Epoch 28/50\n",
            "468/468 [==============================] - 28s 61ms/step - loss: 1.3601e-04 - accuracy: 1.0000 - val_loss: 865.5462 - val_accuracy: 0.3063\n",
            "Epoch 29/50\n",
            "468/468 [==============================] - 28s 61ms/step - loss: 1.3384e-04 - accuracy: 1.0000 - val_loss: 865.9005 - val_accuracy: 0.3045\n",
            "Epoch 30/50\n",
            "468/468 [==============================] - 28s 61ms/step - loss: 1.3144e-04 - accuracy: 1.0000 - val_loss: 857.8952 - val_accuracy: 0.3060\n",
            "Epoch 31/50\n",
            "468/468 [==============================] - 28s 61ms/step - loss: 1.1877e-04 - accuracy: 1.0000 - val_loss: 857.9558 - val_accuracy: 0.3035\n",
            "Epoch 32/50\n",
            "468/468 [==============================] - 29s 61ms/step - loss: 1.1159e-04 - accuracy: 1.0000 - val_loss: 853.8686 - val_accuracy: 0.3082\n",
            "Epoch 33/50\n",
            "468/468 [==============================] - 29s 61ms/step - loss: 9.9704e-05 - accuracy: 1.0000 - val_loss: 853.6675 - val_accuracy: 0.3072\n",
            "Epoch 34/50\n",
            "468/468 [==============================] - 29s 61ms/step - loss: 1.0116e-04 - accuracy: 1.0000 - val_loss: 849.5635 - val_accuracy: 0.3053\n",
            "Epoch 35/50\n",
            "468/468 [==============================] - 28s 61ms/step - loss: 9.5395e-05 - accuracy: 1.0000 - val_loss: 854.8463 - val_accuracy: 0.3044\n",
            "Epoch 36/50\n",
            "468/468 [==============================] - 28s 61ms/step - loss: 9.9751e-05 - accuracy: 1.0000 - val_loss: 857.2541 - val_accuracy: 0.3041\n",
            "Epoch 37/50\n",
            "468/468 [==============================] - 29s 61ms/step - loss: 9.3147e-05 - accuracy: 1.0000 - val_loss: 856.1782 - val_accuracy: 0.3060\n",
            "Epoch 38/50\n",
            "468/468 [==============================] - 28s 60ms/step - loss: 9.6420e-05 - accuracy: 1.0000 - val_loss: 854.4909 - val_accuracy: 0.3069\n",
            "Epoch 39/50\n",
            "468/468 [==============================] - 28s 60ms/step - loss: 9.3248e-05 - accuracy: 1.0000 - val_loss: 863.2332 - val_accuracy: 0.3001\n",
            "Epoch 40/50\n",
            "468/468 [==============================] - 28s 60ms/step - loss: 9.3987e-05 - accuracy: 1.0000 - val_loss: 863.0621 - val_accuracy: 0.3062\n",
            "Epoch 41/50\n",
            "468/468 [==============================] - 29s 61ms/step - loss: 8.0090e-05 - accuracy: 1.0000 - val_loss: 864.2920 - val_accuracy: 0.3026\n",
            "Epoch 42/50\n",
            "468/468 [==============================] - 29s 61ms/step - loss: 8.5027e-05 - accuracy: 1.0000 - val_loss: 864.2350 - val_accuracy: 0.3045\n",
            "Epoch 43/50\n",
            "468/468 [==============================] - 29s 61ms/step - loss: 8.2071e-05 - accuracy: 1.0000 - val_loss: 859.6207 - val_accuracy: 0.3007\n",
            "Epoch 44/50\n",
            "468/468 [==============================] - 29s 61ms/step - loss: 8.1727e-05 - accuracy: 1.0000 - val_loss: 860.4529 - val_accuracy: 0.3026\n",
            "Epoch 45/50\n",
            "468/468 [==============================] - 28s 61ms/step - loss: 7.9008e-05 - accuracy: 1.0000 - val_loss: 864.9441 - val_accuracy: 0.2966\n",
            "Epoch 46/50\n",
            "468/468 [==============================] - 29s 61ms/step - loss: 7.5714e-05 - accuracy: 1.0000 - val_loss: 861.6006 - val_accuracy: 0.3014\n",
            "Epoch 47/50\n",
            "468/468 [==============================] - 28s 61ms/step - loss: 7.1585e-05 - accuracy: 1.0000 - val_loss: 861.9569 - val_accuracy: 0.3000\n",
            "Epoch 48/50\n",
            "468/468 [==============================] - 29s 61ms/step - loss: 6.7511e-05 - accuracy: 1.0000 - val_loss: 866.6719 - val_accuracy: 0.2992\n",
            "Epoch 49/50\n",
            "468/468 [==============================] - 29s 61ms/step - loss: 7.4865e-05 - accuracy: 1.0000 - val_loss: 868.4728 - val_accuracy: 0.2977\n",
            "Epoch 50/50\n",
            "468/468 [==============================] - 28s 60ms/step - loss: 6.7752e-05 - accuracy: 1.0000 - val_loss: 870.6787 - val_accuracy: 0.2959\n",
            "313/313 [==============================] - 4s 10ms/step - loss: 870.8909 - accuracy: 0.2957\n",
            "29.570\n"
          ]
        },
        {
          "output_type": "display_data",
          "data": {
            "text/plain": [
              "<Figure size 720x432 with 1 Axes>"
            ],
            "image/png": "[encoded data removed]"
          },
          "metadata": {
            "needs_background": "light"
          }
        },
        {
          "output_type": "stream",
          "name": "stdout",
          "text": [
            "it took 1467.2374544143677 to train using the VGGnet model\n"
          ]
        }
      ]
    },
    {
      "cell_type": "code",
      "source": [],
      "metadata": {
        "id": "cm2SsRCWldVx"
      },
      "execution_count": null,
      "outputs": []
    },
    {
      "cell_type": "markdown",
      "source": [
        "## Summary\n",
        "\n",
        "Accuracy on test data : 29.59\n",
        "\n",
        "It took 1467.23 sec to train the MNIST data using the VGGnet architecture"
      ],
      "metadata": {
        "id": "f1TMsnl4yaLo"
      }
    },
    {
      "cell_type": "code",
      "source": [],
      "metadata": {
        "id": "A8vOZ4lNoTIl"
      },
      "execution_count": null,
      "outputs": []
    }
  ]
}